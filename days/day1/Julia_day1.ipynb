{
 "cells": [
  {
   "cell_type": "code",
   "execution_count": 5,
   "id": "quantitative-carol",
   "metadata": {},
   "outputs": [
    {
     "data": {
      "text/plain": [
       "Plots.GRBackend()"
      ]
     },
     "execution_count": 5,
     "metadata": {},
     "output_type": "execute_result"
    }
   ],
   "source": [
    "using Random, Distributions, Plots\n",
    "gr() "
   ]
  },
  {
   "cell_type": "code",
   "execution_count": 7,
   "id": "catholic-macintosh",
   "metadata": {},
   "outputs": [
    {
     "data": {
      "text/plain": [
       "normal_white_noise (generic function with 1 method)"
      ]
     },
     "execution_count": 7,
     "metadata": {},
     "output_type": "execute_result"
    }
   ],
   "source": [
    "#ホワイトノイズ\n",
    "function normal_white_noise(sigma, length)\n",
    "    noise_array = rand(Normal(0,sigma),length)\n",
    "    return noise_array\n",
    "end"
   ]
  },
  {
   "cell_type": "code",
   "execution_count": 8,
   "id": "severe-border",
   "metadata": {},
   "outputs": [
    {
     "data": {
      "image/svg+xml": [
       "<?xml version=\"1.0\" encoding=\"utf-8\"?>\n",
       "<svg xmlns=\"http://www.w3.org/2000/svg\" xmlns:xlink=\"http://www.w3.org/1999/xlink\" width=\"600\" height=\"400\" viewBox=\"0 0 2400 1600\">\n",
       "<defs>\n",
       "  <clipPath id=\"clip4100\">\n",
       "    <rect x=\"0\" y=\"0\" width=\"2400\" height=\"1600\"/>\n",
       "  </clipPath>\n",
       "</defs>\n",
       "<path clip-path=\"url(#clip4100)\" d=\"\n",
       "M0 1600 L2400 1600 L2400 0 L0 0  Z\n",
       "  \" fill=\"#ffffff\" fill-rule=\"evenodd\" fill-opacity=\"1\"/>\n",
       "<defs>\n",
       "  <clipPath id=\"clip4101\">\n",
       "    <rect x=\"480\" y=\"0\" width=\"1681\" height=\"1600\"/>\n",
       "  </clipPath>\n",
       "</defs>\n",
       "<path clip-path=\"url(#clip4100)\" d=\"\n",
       "M141.865 1487.47 L2352.76 1487.47 L2352.76 47.2441 L141.865 47.2441  Z\n",
       "  \" fill=\"#ffffff\" fill-rule=\"evenodd\" fill-opacity=\"1\"/>\n",
       "<defs>\n",
       "  <clipPath id=\"clip4102\">\n",
       "    <rect x=\"141\" y=\"47\" width=\"2212\" height=\"1441\"/>\n",
       "  </clipPath>\n",
       "</defs>\n",
       "<polyline clip-path=\"url(#clip4102)\" style=\"stroke:#000000; stroke-width:2; stroke-opacity:0.1; fill:none\" points=\"\n",
       "  197.461,1487.47 197.461,47.2441 \n",
       "  \"/>\n",
       "<polyline clip-path=\"url(#clip4102)\" style=\"stroke:#000000; stroke-width:2; stroke-opacity:0.1; fill:none\" points=\"\n",
       "  895.035,1487.47 895.035,47.2441 \n",
       "  \"/>\n",
       "<polyline clip-path=\"url(#clip4102)\" style=\"stroke:#000000; stroke-width:2; stroke-opacity:0.1; fill:none\" points=\"\n",
       "  1592.61,1487.47 1592.61,47.2441 \n",
       "  \"/>\n",
       "<polyline clip-path=\"url(#clip4102)\" style=\"stroke:#000000; stroke-width:2; stroke-opacity:0.1; fill:none\" points=\"\n",
       "  2290.18,1487.47 2290.18,47.2441 \n",
       "  \"/>\n",
       "<polyline clip-path=\"url(#clip4102)\" style=\"stroke:#000000; stroke-width:2; stroke-opacity:0.1; fill:none\" points=\"\n",
       "  141.865,1471.53 2352.76,1471.53 \n",
       "  \"/>\n",
       "<polyline clip-path=\"url(#clip4102)\" style=\"stroke:#000000; stroke-width:2; stroke-opacity:0.1; fill:none\" points=\"\n",
       "  141.865,1253.64 2352.76,1253.64 \n",
       "  \"/>\n",
       "<polyline clip-path=\"url(#clip4102)\" style=\"stroke:#000000; stroke-width:2; stroke-opacity:0.1; fill:none\" points=\"\n",
       "  141.865,1035.75 2352.76,1035.75 \n",
       "  \"/>\n",
       "<polyline clip-path=\"url(#clip4102)\" style=\"stroke:#000000; stroke-width:2; stroke-opacity:0.1; fill:none\" points=\"\n",
       "  141.865,817.858 2352.76,817.858 \n",
       "  \"/>\n",
       "<polyline clip-path=\"url(#clip4102)\" style=\"stroke:#000000; stroke-width:2; stroke-opacity:0.1; fill:none\" points=\"\n",
       "  141.865,599.968 2352.76,599.968 \n",
       "  \"/>\n",
       "<polyline clip-path=\"url(#clip4102)\" style=\"stroke:#000000; stroke-width:2; stroke-opacity:0.1; fill:none\" points=\"\n",
       "  141.865,382.078 2352.76,382.078 \n",
       "  \"/>\n",
       "<polyline clip-path=\"url(#clip4102)\" style=\"stroke:#000000; stroke-width:2; stroke-opacity:0.1; fill:none\" points=\"\n",
       "  141.865,164.187 2352.76,164.187 \n",
       "  \"/>\n",
       "<polyline clip-path=\"url(#clip4100)\" style=\"stroke:#000000; stroke-width:4; stroke-opacity:1; fill:none\" points=\"\n",
       "  141.865,1487.47 2352.76,1487.47 \n",
       "  \"/>\n",
       "<polyline clip-path=\"url(#clip4100)\" style=\"stroke:#000000; stroke-width:4; stroke-opacity:1; fill:none\" points=\"\n",
       "  141.865,1487.47 141.865,47.2441 \n",
       "  \"/>\n",
       "<polyline clip-path=\"url(#clip4100)\" style=\"stroke:#000000; stroke-width:4; stroke-opacity:1; fill:none\" points=\"\n",
       "  197.461,1487.47 197.461,1470.19 \n",
       "  \"/>\n",
       "<polyline clip-path=\"url(#clip4100)\" style=\"stroke:#000000; stroke-width:4; stroke-opacity:1; fill:none\" points=\"\n",
       "  895.035,1487.47 895.035,1470.19 \n",
       "  \"/>\n",
       "<polyline clip-path=\"url(#clip4100)\" style=\"stroke:#000000; stroke-width:4; stroke-opacity:1; fill:none\" points=\"\n",
       "  1592.61,1487.47 1592.61,1470.19 \n",
       "  \"/>\n",
       "<polyline clip-path=\"url(#clip4100)\" style=\"stroke:#000000; stroke-width:4; stroke-opacity:1; fill:none\" points=\"\n",
       "  2290.18,1487.47 2290.18,1470.19 \n",
       "  \"/>\n",
       "<polyline clip-path=\"url(#clip4100)\" style=\"stroke:#000000; stroke-width:4; stroke-opacity:1; fill:none\" points=\"\n",
       "  141.865,1471.53 168.395,1471.53 \n",
       "  \"/>\n",
       "<polyline clip-path=\"url(#clip4100)\" style=\"stroke:#000000; stroke-width:4; stroke-opacity:1; fill:none\" points=\"\n",
       "  141.865,1253.64 168.395,1253.64 \n",
       "  \"/>\n",
       "<polyline clip-path=\"url(#clip4100)\" style=\"stroke:#000000; stroke-width:4; stroke-opacity:1; fill:none\" points=\"\n",
       "  141.865,1035.75 168.395,1035.75 \n",
       "  \"/>\n",
       "<polyline clip-path=\"url(#clip4100)\" style=\"stroke:#000000; stroke-width:4; stroke-opacity:1; fill:none\" points=\"\n",
       "  141.865,817.858 168.395,817.858 \n",
       "  \"/>\n",
       "<polyline clip-path=\"url(#clip4100)\" style=\"stroke:#000000; stroke-width:4; stroke-opacity:1; fill:none\" points=\"\n",
       "  141.865,599.968 168.395,599.968 \n",
       "  \"/>\n",
       "<polyline clip-path=\"url(#clip4100)\" style=\"stroke:#000000; stroke-width:4; stroke-opacity:1; fill:none\" points=\"\n",
       "  141.865,382.078 168.395,382.078 \n",
       "  \"/>\n",
       "<polyline clip-path=\"url(#clip4100)\" style=\"stroke:#000000; stroke-width:4; stroke-opacity:1; fill:none\" points=\"\n",
       "  141.865,164.187 168.395,164.187 \n",
       "  \"/>\n",
       "<g clip-path=\"url(#clip4100)\">\n",
       "<text style=\"fill:#000000; fill-opacity:1; font-family:Arial,Helvetica Neue,Helvetica,sans-serif; font-size:48px; text-anchor:middle;\" transform=\"rotate(0, 197.461, 1541.47)\" x=\"197.461\" y=\"1541.47\">0</text>\n",
       "</g>\n",
       "<g clip-path=\"url(#clip4100)\">\n",
       "<text style=\"fill:#000000; fill-opacity:1; font-family:Arial,Helvetica Neue,Helvetica,sans-serif; font-size:48px; text-anchor:middle;\" transform=\"rotate(0, 895.035, 1541.47)\" x=\"895.035\" y=\"1541.47\">100</text>\n",
       "</g>\n",
       "<g clip-path=\"url(#clip4100)\">\n",
       "<text style=\"fill:#000000; fill-opacity:1; font-family:Arial,Helvetica Neue,Helvetica,sans-serif; font-size:48px; text-anchor:middle;\" transform=\"rotate(0, 1592.61, 1541.47)\" x=\"1592.61\" y=\"1541.47\">200</text>\n",
       "</g>\n",
       "<g clip-path=\"url(#clip4100)\">\n",
       "<text style=\"fill:#000000; fill-opacity:1; font-family:Arial,Helvetica Neue,Helvetica,sans-serif; font-size:48px; text-anchor:middle;\" transform=\"rotate(0, 2290.18, 1541.47)\" x=\"2290.18\" y=\"1541.47\">300</text>\n",
       "</g>\n",
       "<g clip-path=\"url(#clip4100)\">\n",
       "<text style=\"fill:#000000; fill-opacity:1; font-family:Arial,Helvetica Neue,Helvetica,sans-serif; font-size:48px; text-anchor:end;\" transform=\"rotate(0, 117.865, 1489.03)\" x=\"117.865\" y=\"1489.03\">-3</text>\n",
       "</g>\n",
       "<g clip-path=\"url(#clip4100)\">\n",
       "<text style=\"fill:#000000; fill-opacity:1; font-family:Arial,Helvetica Neue,Helvetica,sans-serif; font-size:48px; text-anchor:end;\" transform=\"rotate(0, 117.865, 1271.14)\" x=\"117.865\" y=\"1271.14\">-2</text>\n",
       "</g>\n",
       "<g clip-path=\"url(#clip4100)\">\n",
       "<text style=\"fill:#000000; fill-opacity:1; font-family:Arial,Helvetica Neue,Helvetica,sans-serif; font-size:48px; text-anchor:end;\" transform=\"rotate(0, 117.865, 1053.25)\" x=\"117.865\" y=\"1053.25\">-1</text>\n",
       "</g>\n",
       "<g clip-path=\"url(#clip4100)\">\n",
       "<text style=\"fill:#000000; fill-opacity:1; font-family:Arial,Helvetica Neue,Helvetica,sans-serif; font-size:48px; text-anchor:end;\" transform=\"rotate(0, 117.865, 835.358)\" x=\"117.865\" y=\"835.358\">0</text>\n",
       "</g>\n",
       "<g clip-path=\"url(#clip4100)\">\n",
       "<text style=\"fill:#000000; fill-opacity:1; font-family:Arial,Helvetica Neue,Helvetica,sans-serif; font-size:48px; text-anchor:end;\" transform=\"rotate(0, 117.865, 617.468)\" x=\"117.865\" y=\"617.468\">1</text>\n",
       "</g>\n",
       "<g clip-path=\"url(#clip4100)\">\n",
       "<text style=\"fill:#000000; fill-opacity:1; font-family:Arial,Helvetica Neue,Helvetica,sans-serif; font-size:48px; text-anchor:end;\" transform=\"rotate(0, 117.865, 399.578)\" x=\"117.865\" y=\"399.578\">2</text>\n",
       "</g>\n",
       "<g clip-path=\"url(#clip4100)\">\n",
       "<text style=\"fill:#000000; fill-opacity:1; font-family:Arial,Helvetica Neue,Helvetica,sans-serif; font-size:48px; text-anchor:end;\" transform=\"rotate(0, 117.865, 181.687)\" x=\"117.865\" y=\"181.687\">3</text>\n",
       "</g>\n",
       "<polyline clip-path=\"url(#clip4102)\" style=\"stroke:#009af9; stroke-width:4; stroke-opacity:1; fill:none\" points=\"\n",
       "  204.437,794.357 211.413,824.038 218.388,1087.9 225.364,1013.54 232.34,624.624 239.316,827.297 246.291,1031.42 253.267,464.547 260.243,698.13 267.219,981.873 \n",
       "  274.194,565.479 281.17,763.3 288.146,1200.26 295.122,1061.41 302.097,1162.38 309.073,698.094 316.049,518.672 323.025,778.101 330,572.45 336.976,1253.11 \n",
       "  343.952,835.907 350.928,934.273 357.903,577.831 364.879,1008.84 371.855,870.1 378.83,951.957 385.806,899.204 392.782,817.639 399.758,993.868 406.733,800.61 \n",
       "  413.709,772.844 420.685,927.037 427.661,841.53 434.636,435.937 441.612,891.55 448.588,864.524 455.564,422.823 462.539,717.182 469.515,767.284 476.491,1045.72 \n",
       "  483.467,770.717 490.442,1123.04 497.418,711.436 504.394,1271.95 511.37,1018.36 518.345,1179.95 525.321,775.892 532.297,826.063 539.273,704.607 546.248,1170.85 \n",
       "  553.224,823.799 560.2,812.774 567.175,1056.37 574.151,556.882 581.127,651.373 588.103,822.442 595.078,935.628 602.054,565.262 609.03,679.433 616.006,835.897 \n",
       "  622.981,876.208 629.957,1051.42 636.933,456.217 643.909,803.015 650.884,1116.21 657.86,870.027 664.836,1037.67 671.812,505.1 678.787,1175.3 685.763,671.573 \n",
       "  692.739,694.551 699.715,556.813 706.69,692.012 713.666,601.078 720.642,678.827 727.618,656.116 734.593,755.065 741.569,871.882 748.545,88.0053 755.52,645.568 \n",
       "  762.496,939.244 769.472,999.672 776.448,1010.58 783.423,928.465 790.399,685.258 797.375,610.326 804.351,390.918 811.326,891.082 818.302,493.01 825.278,492.802 \n",
       "  832.254,835.733 839.229,792.748 846.205,659.013 853.181,1259.2 860.157,1155.14 867.132,754.321 874.108,959.401 881.084,962.436 888.06,562.809 895.035,1154.48 \n",
       "  902.011,407.076 908.987,1034.54 915.963,1044.61 922.938,654.735 929.914,810.231 936.89,805.81 943.865,437.16 950.841,1028.11 957.817,644.233 964.793,801.255 \n",
       "  971.768,1098.91 978.744,865.673 985.72,960.272 992.696,886.264 999.671,558.933 1006.65,1352.32 1013.62,705.127 1020.6,1003.62 1027.57,1141.92 1034.55,787.443 \n",
       "  1041.53,746.74 1048.5,745.306 1055.48,1006.62 1062.45,204.096 1069.43,704.167 1076.4,978.223 1083.38,875.331 1090.36,582.545 1097.33,1061.74 1104.31,955.852 \n",
       "  1111.28,616.284 1118.26,948.019 1125.23,855.366 1132.21,857.869 1139.19,778.571 1146.16,1226.11 1153.14,876.643 1160.11,661.575 1167.09,1191.13 1174.06,494.243 \n",
       "  1181.04,746.153 1188.02,833.563 1194.99,440.299 1201.97,697.609 1208.94,509.344 1215.92,1122.41 1222.9,585.844 1229.87,926.106 1236.85,827.932 1243.82,1165.28 \n",
       "  1250.8,730.156 1257.77,747.171 1264.75,758.904 1271.73,904.962 1278.7,916.205 1285.68,1038.71 1292.65,919.655 1299.63,1297.82 1306.6,805.146 1313.58,824.334 \n",
       "  1320.56,895.238 1327.53,855.135 1334.51,904.539 1341.48,594.951 1348.46,999.942 1355.43,880.779 1362.41,513.174 1369.39,725.42 1376.36,902.729 1383.34,601.48 \n",
       "  1390.31,1009.36 1397.29,705.394 1404.26,905.915 1411.24,783.33 1418.22,1338.66 1425.19,585.726 1432.17,1045.95 1439.14,961.252 1446.12,694.314 1453.09,705.18 \n",
       "  1460.07,850.962 1467.05,818.268 1474.02,433.288 1481,834.613 1487.97,301.91 1494.95,1119.26 1501.92,720.248 1508.9,1130.34 1515.88,653.781 1522.85,798.379 \n",
       "  1529.83,945.704 1536.8,842.203 1543.78,638.27 1550.75,1074.61 1557.73,972.726 1564.71,1002.77 1571.68,872.104 1578.66,673.344 1585.63,1098.58 1592.61,1128.4 \n",
       "  1599.59,638.048 1606.56,1190.52 1613.54,455.279 1620.51,787.103 1627.49,975.517 1634.46,712.436 1641.44,677.208 1648.42,918.094 1655.39,1446.71 1662.37,894.137 \n",
       "  1669.34,819.008 1676.32,822.393 1683.29,587.676 1690.27,934.151 1697.25,719.486 1704.22,635.705 1711.2,1248.08 1718.17,967.992 1725.15,928.478 1732.12,880.316 \n",
       "  1739.1,937.198 1746.08,1313.78 1753.05,940.806 1760.03,881.854 1767,1007.41 1773.98,799.853 1780.95,485.457 1787.93,703.427 1794.91,827.688 1801.88,1006.94 \n",
       "  1808.86,670.71 1815.83,695.208 1822.81,924.528 1829.78,1007.57 1836.76,1020.05 1843.74,950.209 1850.71,770.047 1857.69,990.088 1864.66,973.417 1871.64,632.861 \n",
       "  1878.61,1224.03 1885.59,909.655 1892.57,564.381 1899.54,354.394 1906.52,835.76 1913.49,665.991 1920.47,866.582 1927.44,1278.23 1934.42,940.082 1941.4,988.851 \n",
       "  1948.37,528.429 1955.35,1121.37 1962.32,1084.1 1969.3,940.483 1976.28,1016.14 1983.25,752.022 1990.23,779.287 1997.2,476.675 2004.18,999.736 2011.15,1013.25 \n",
       "  2018.13,663.214 2025.11,501.703 2032.08,1032.29 2039.06,738.11 2046.03,619.257 2053.01,689.653 2059.98,533.576 2066.96,440.079 2073.94,1133.7 2080.91,744.943 \n",
       "  2087.89,1111.41 2094.86,1014.73 2101.84,809.007 2108.81,744.379 2115.79,928.49 2122.77,706.286 2129.74,750.649 2136.72,909.337 2143.69,1334.49 2150.67,604.388 \n",
       "  2157.64,942.225 2164.62,1157.01 2171.6,873.1 2178.57,762.253 2185.55,997.555 2192.52,889.849 2199.5,842.481 2206.47,709.346 2213.45,885.941 2220.43,713.899 \n",
       "  2227.4,765.109 2234.38,1114.66 2241.35,705.395 2248.33,906.512 2255.3,470.033 2262.28,905.044 2269.26,962.147 2276.23,949.156 2283.21,784.556 2290.18,1127.3 \n",
       "  \n",
       "  \"/>\n",
       "<path clip-path=\"url(#clip4100)\" d=\"\n",
       "M1989.93 251.724 L2280.76 251.724 L2280.76 130.764 L1989.93 130.764  Z\n",
       "  \" fill=\"#ffffff\" fill-rule=\"evenodd\" fill-opacity=\"1\"/>\n",
       "<polyline clip-path=\"url(#clip4100)\" style=\"stroke:#000000; stroke-width:4; stroke-opacity:1; fill:none\" points=\"\n",
       "  1989.93,251.724 2280.76,251.724 2280.76,130.764 1989.93,130.764 1989.93,251.724 \n",
       "  \"/>\n",
       "<polyline clip-path=\"url(#clip4100)\" style=\"stroke:#009af9; stroke-width:4; stroke-opacity:1; fill:none\" points=\"\n",
       "  2013.93,191.244 2157.93,191.244 \n",
       "  \"/>\n",
       "<g clip-path=\"url(#clip4100)\">\n",
       "<text style=\"fill:#000000; fill-opacity:1; font-family:Arial,Helvetica Neue,Helvetica,sans-serif; font-size:48px; text-anchor:start;\" transform=\"rotate(0, 2181.93, 208.744)\" x=\"2181.93\" y=\"208.744\">y1</text>\n",
       "</g>\n",
       "</svg>\n"
      ]
     },
     "execution_count": 8,
     "metadata": {},
     "output_type": "execute_result"
    }
   ],
   "source": [
    "plot(normal_white_noise(1,300))"
   ]
  },
  {
   "cell_type": "code",
   "execution_count": 9,
   "id": "banned-skating",
   "metadata": {},
   "outputs": [
    {
     "data": {
      "text/plain": [
       "ma1 (generic function with 1 method)"
      ]
     },
     "execution_count": 9,
     "metadata": {},
     "output_type": "execute_result"
    }
   ],
   "source": [
    "#ma1モデル\n",
    "function ma1(mu, sigma, theta, length)\n",
    "    noise_array = rand(Normal(0,sigma) , length)\n",
    "    ma_array = [(if i != 1 mu+noise_array[i]+theta*noise_array[i-1] else mu+noise_array[i] end) for i in 1:length]\n",
    "    return ma_array\n",
    "end"
   ]
  },
  {
   "cell_type": "code",
   "execution_count": 1,
   "id": "worthy-airplane",
   "metadata": {},
   "outputs": [
    {
     "ename": "LoadError",
     "evalue": "UndefVarError: ma1 not defined",
     "output_type": "error",
     "traceback": [
      "UndefVarError: ma1 not defined",
      "",
      "Stacktrace:",
      " [1] top-level scope at In[1]:1",
      " [2] include_string(::Function, ::Module, ::String, ::String) at ./loading.jl:1091"
     ]
    }
   ],
   "source": [
    "plot( ma1(2,1,0.8,400))"
   ]
  },
  {
   "cell_type": "code",
   "execution_count": null,
   "id": "surgical-modern",
   "metadata": {},
   "outputs": [],
   "source": []
  }
 ],
 "metadata": {
  "kernelspec": {
   "display_name": "Julia 1.5.3",
   "language": "julia",
   "name": "julia-1.5"
  },
  "language_info": {
   "file_extension": ".jl",
   "mimetype": "application/julia",
   "name": "julia",
   "version": "1.5.3"
  }
 },
 "nbformat": 4,
 "nbformat_minor": 5
}
