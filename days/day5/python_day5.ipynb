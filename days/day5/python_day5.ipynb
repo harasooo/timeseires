{
 "cells": [
  {
   "cell_type": "code",
   "execution_count": 1,
   "id": "outstanding-dream",
   "metadata": {},
   "outputs": [],
   "source": [
    "import numpy as np"
   ]
  },
  {
   "cell_type": "code",
   "execution_count": 2,
   "id": "precious-lindsay",
   "metadata": {},
   "outputs": [],
   "source": [
    "#ma1モデル\n",
    "def ma_q(q :int, theta_array :np.array, mu :float, sigma :float, length: int) -> np.array:\n",
    "    noise_list = np.random.normal(0,sigma,length)\n",
    "    y_t_list = np.array([(mu+noise_list[i]+theta*noise_list[i-1]) if i != 0 else (mu+noise_list[i]) for i in range(length)])\n",
    "    return y_t_list"
   ]
  },
  {
   "cell_type": "code",
   "execution_count": 9,
   "id": "exciting-arthur",
   "metadata": {},
   "outputs": [],
   "source": [
    "q = 5\n",
    "theta_array= np.array([0.6,0.5,0.2,0.1])\n",
    "noise_list = np.random.normal(0,1,1000)"
   ]
  },
  {
   "cell_type": "code",
   "execution_count": 10,
   "id": "coated-fashion",
   "metadata": {},
   "outputs": [
    {
     "data": {
      "text/plain": [
       "array([0.6, 0.5, 0.2, 0.1])"
      ]
     },
     "execution_count": 10,
     "metadata": {},
     "output_type": "execute_result"
    }
   ],
   "source": [
    "theta_array"
   ]
  },
  {
   "cell_type": "code",
   "execution_count": 16,
   "id": "personal-sweden",
   "metadata": {},
   "outputs": [
    {
     "data": {
      "text/plain": [
       "0.18234518861873525"
      ]
     },
     "execution_count": 16,
     "metadata": {},
     "output_type": "execute_result"
    }
   ],
   "source": [
    "np.sum([noise_list[0-i]*theta_array[i] for i in range(4)])"
   ]
  },
  {
   "cell_type": "code",
   "execution_count": null,
   "id": "economic-kingston",
   "metadata": {},
   "outputs": [],
   "source": []
  }
 ],
 "metadata": {
  "kernelspec": {
   "display_name": "Python 3",
   "language": "python",
   "name": "python3"
  },
  "language_info": {
   "codemirror_mode": {
    "name": "ipython",
    "version": 3
   },
   "file_extension": ".py",
   "mimetype": "text/x-python",
   "name": "python",
   "nbconvert_exporter": "python",
   "pygments_lexer": "ipython3",
   "version": "3.8.6"
  }
 },
 "nbformat": 4,
 "nbformat_minor": 5
}
