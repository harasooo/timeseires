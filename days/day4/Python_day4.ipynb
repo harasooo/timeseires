{
 "cells": [
  {
   "cell_type": "code",
   "execution_count": 87,
   "id": "wanted-upper",
   "metadata": {},
   "outputs": [],
   "source": [
    "import numpy as np"
   ]
  },
  {
   "cell_type": "code",
   "execution_count": 108,
   "id": "cosmetic-edinburgh",
   "metadata": {},
   "outputs": [],
   "source": [
    "#ma1モデル\n",
    "def ma1(mu :float, sigma :float, theta :float, length: int) -> np.array:\n",
    "    noise_list = np.random.normal(0,sigma,length)\n",
    "    y_t_list = np.array([(mu+noise_list[i]+theta*noise_list[i-1]) if i != 0 else (mu+noise_list[i]) for i in range(length)])\n",
    "    return y_t_list\n",
    "\n",
    "#k次の自己共分散の値を計算\n",
    "def autocovariance(k :int, ma1_array :np.array) -> np.array:\n",
    "    auto_cov = np.cov(ma1_array[0:(len(ma1_array)-1)-k],ma1_array[0+k:(len(ma1_array)-1)],ddof=0)[0][1]\n",
    "    return auto_cov\n",
    "\n",
    "#k次の自己相関の値を計算\n",
    "def autocorrelation(k :int, ma1_array :np.array) -> np.array:\n",
    "    k_0 = autocovariance(0, ma1_array)\n",
    "    k_k = autocovariance(k, ma1_array)\n",
    "    return k_k/k_0"
   ]
  },
  {
   "cell_type": "code",
   "execution_count": 109,
   "id": "private-summary",
   "metadata": {},
   "outputs": [
    {
     "name": "stdout",
     "output_type": "stream",
     "text": [
      "with k = 0\n",
      "auto cov is 5.0030\n",
      "auto correlation is 1.0000\n",
      "\n",
      "with k = 1\n",
      "auto cov is 1.9984\n",
      "auto correlation is 0.3994\n",
      "\n",
      "with k = 2\n",
      "auto cov is -0.0031\n",
      "auto correlation is -0.0006\n",
      "\n",
      "with k = 3\n",
      "auto cov is -0.0024\n",
      "auto correlation is -0.0005\n",
      "\n",
      "with k = 4\n",
      "auto cov is -0.0029\n",
      "auto correlation is -0.0006\n",
      "\n"
     ]
    }
   ],
   "source": [
    "ma1_array = ma1(3,2,0.5,100000)\n",
    "for k in range(5):\n",
    "    print(f\"with k = {k}\")\n",
    "    print(f\"auto cov is {autocovariance(k, ma1_array):.4f}\")\n",
    "    print(f\"auto correlation is {autocorrelation(k, ma1_array):.4f}\\n\")"
   ]
  },
  {
   "cell_type": "code",
   "execution_count": 110,
   "id": "expensive-azerbaijan",
   "metadata": {},
   "outputs": [
    {
     "name": "stdout",
     "output_type": "stream",
     "text": [
      "with k = 0\n",
      "auto cov is 8.0135\n",
      "auto correlation is 1.0000\n",
      "\n",
      "with k = 1\n",
      "auto cov is 4.0078\n",
      "auto correlation is 0.5001\n",
      "\n",
      "with k = 2\n",
      "auto cov is -0.0134\n",
      "auto correlation is -0.0017\n",
      "\n",
      "with k = 3\n",
      "auto cov is -0.0259\n",
      "auto correlation is -0.0032\n",
      "\n",
      "with k = 4\n",
      "auto cov is -0.0224\n",
      "auto correlation is -0.0028\n",
      "\n"
     ]
    }
   ],
   "source": [
    "ma1_array = ma1(3,2,1,100000)\n",
    "for k in range(5):\n",
    "    print(f\"with k = {k}\")\n",
    "    print(f\"auto cov is {autocovariance(k, ma1_array):.4f}\")\n",
    "    print(f\"auto correlation is {autocorrelation(k, ma1_array):.4f}\\n\")"
   ]
  },
  {
   "cell_type": "code",
   "execution_count": 111,
   "id": "neutral-morgan",
   "metadata": {},
   "outputs": [
    {
     "data": {
      "text/plain": [
       "array([5.42904934, 6.02691787, 2.97850552, ..., 0.06822947, 3.62157806,\n",
       "       6.57945175])"
      ]
     },
     "execution_count": 111,
     "metadata": {},
     "output_type": "execute_result"
    }
   ],
   "source": [
    "ma1_array"
   ]
  },
  {
   "cell_type": "code",
   "execution_count": null,
   "id": "excited-recipient",
   "metadata": {},
   "outputs": [],
   "source": []
  }
 ],
 "metadata": {
  "kernelspec": {
   "display_name": "Python 3",
   "language": "python",
   "name": "python3"
  },
  "language_info": {
   "codemirror_mode": {
    "name": "ipython",
    "version": 3
   },
   "file_extension": ".py",
   "mimetype": "text/x-python",
   "name": "python",
   "nbconvert_exporter": "python",
   "pygments_lexer": "ipython3",
   "version": "3.8.6"
  }
 },
 "nbformat": 4,
 "nbformat_minor": 5
}
