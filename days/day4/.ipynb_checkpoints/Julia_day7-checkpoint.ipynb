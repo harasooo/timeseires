{
 "cells": [
  {
   "cell_type": "code",
   "execution_count": 1,
   "id": "daily-sodium",
   "metadata": {},
   "outputs": [],
   "source": [
    "using Random, Distributions, Statistics"
   ]
  },
  {
   "cell_type": "code",
   "execution_count": 2,
   "id": "cognitive-syndicate",
   "metadata": {},
   "outputs": [
    {
     "data": {
      "text/plain": [
       "autocorrelation (generic function with 1 method)"
      ]
     },
     "execution_count": 2,
     "metadata": {},
     "output_type": "execute_result"
    }
   ],
   "source": [
    "\n",
    "#k次の自己共分散の値を計算\n",
    "function autocovariance(k, ma1_array)\n",
    "    auto_cov = Statistics.cov(ma1_array[1:(size(ma1_array)[1])-k],ma1_array[1+k:(size(ma1_array)[1])],corrected = false)\n",
    "    return auto_cov\n",
    "end\n",
    "\n",
    "#k次の自己相関の値を計算\n",
    "function autocorrelation(k, ma1_array)\n",
    "    k_0 = autocovariance(0, ma1_array)\n",
    "    k_k = autocovariance(k, ma1_array)\n",
    "    return k_k/k_0\n",
    "end"
   ]
  },
  {
   "cell_type": "code",
   "execution_count": 3,
   "id": "insured-subsection",
   "metadata": {},
   "outputs": [
    {
     "data": {
      "text/plain": [
       "1.459061555273521"
      ]
     },
     "execution_count": 3,
     "metadata": {},
     "output_type": "execute_result"
    }
   ],
   "source": [
    "a = ma_q([1,0.1,0.2,0.4,0.5],2, 1, 100000)\n",
    "autocovariance(0,a)"
   ]
  },
  {
   "cell_type": "code",
   "execution_count": null,
   "id": "engaged-funeral",
   "metadata": {},
   "outputs": [],
   "source": []
  }
 ],
 "metadata": {
  "kernelspec": {
   "display_name": "Julia 1.5.3",
   "language": "julia",
   "name": "julia-1.5"
  },
  "language_info": {
   "file_extension": ".jl",
   "mimetype": "application/julia",
   "name": "julia",
   "version": "1.5.3"
  }
 },
 "nbformat": 4,
 "nbformat_minor": 5
}
