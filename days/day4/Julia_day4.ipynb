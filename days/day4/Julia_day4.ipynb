{
 "cells": [
  {
   "cell_type": "code",
   "execution_count": 1,
   "id": "later-third",
   "metadata": {},
   "outputs": [],
   "source": [
    "using Random, Distributions, Statistics"
   ]
  },
  {
   "cell_type": "code",
   "execution_count": 53,
   "id": "veterinary-probability",
   "metadata": {},
   "outputs": [
    {
     "data": {
      "text/plain": [
       "autocorrelation (generic function with 1 method)"
      ]
     },
     "execution_count": 53,
     "metadata": {},
     "output_type": "execute_result"
    }
   ],
   "source": [
    "#ma1モデル\n",
    "function ma1(mu, sigma, theta, length)\n",
    "    noise_array = rand(Normal(0,sigma) , length)\n",
    "    ma_array = [(if i != 1 mu+noise_array[i]+theta*noise_array[i-1] else mu+noise_array[i] end) for i in 1:length]\n",
    "    return ma_array\n",
    "end\n",
    "\n",
    "#k次の自己共分散の値を計算\n",
    "function autocovariance(k, ma1_array)\n",
    "    auto_cov = Statistics.cov(ma1_array[1:(size(ma1_array)[1])-k],ma1_array[1+k:(size(ma1_array)[1])],corrected = false)\n",
    "    return auto_cov\n",
    "end\n",
    "\n",
    "#k次の自己相関の値を計算\n",
    "function autocorrelation(k, ma1_array)\n",
    "    k_0 = autocovariance(0, ma1_array)\n",
    "    k_k = autocovariance(k, ma1_array)\n",
    "    return k_k/k_0\n",
    "end"
   ]
  },
  {
   "cell_type": "code",
   "execution_count": 76,
   "id": "protective-russia",
   "metadata": {},
   "outputs": [
    {
     "name": "stdout",
     "output_type": "stream",
     "text": [
      "with k = 0\n",
      "auto cov is 4.9975417853425235\n",
      "auto  correlation is 1.0 \n",
      "\n",
      "with k = 1\n",
      "auto cov is 1.9994461114525854\n",
      "auto  correlation is 0.40008592170591456 \n",
      "\n",
      "with k = 2\n",
      "auto cov is 0.0025051655245240216\n",
      "auto  correlation is 0.0005012795554549469 \n",
      "\n",
      "with k = 3\n",
      "auto cov is -8.598309513549962e-5\n",
      "auto  correlation is -1.7205077781977262e-5 \n",
      "\n",
      "with k = 4\n",
      "auto cov is -0.002195792179626508\n",
      "auto  correlation is -0.0004393744512685474 \n",
      "\n"
     ]
    }
   ],
   "source": [
    "ma1_array = ma1(3,2,0.5,10000000)\n",
    "for k in 0:4\n",
    "    aut_cov = autocovariance(k, ma1_array)\n",
    "    aut_cor = autocorrelation(k, ma1_array)\n",
    "    println(\"with k = $k\")\n",
    "    println(\"auto cov is $aut_cov\")\n",
    "    println(\"auto  correlation is $aut_cor \\n\")\n",
    "end"
   ]
  },
  {
   "cell_type": "code",
   "execution_count": 75,
   "id": "front-argentina",
   "metadata": {},
   "outputs": [
    {
     "name": "stdout",
     "output_type": "stream",
     "text": [
      "with k = 0\n",
      "auto cov is 7.98979114830428\n",
      "auto  correlation is 1.0 \n",
      "\n",
      "with k = 1\n",
      "auto cov is 3.9918018010291503\n",
      "auto  correlation is 0.49961278423108135 \n",
      "\n",
      "with k = 2\n",
      "auto cov is -0.0019872448969448773\n",
      "auto  correlation is -0.00024872300915733473 \n",
      "\n",
      "with k = 3\n",
      "auto cov is 0.0036441834845152895\n",
      "auto  correlation is 0.0004561049740691552 \n",
      "\n",
      "with k = 4\n",
      "auto cov is 0.0033514388745276287\n",
      "auto  correlation is 0.0004194651414935826 \n",
      "\n"
     ]
    }
   ],
   "source": [
    "ma1_array = ma1(3,2,1,10000000)\n",
    "for k in 0:4\n",
    "    aut_cov = autocovariance(k, ma1_array)\n",
    "    aut_cor = autocorrelation(k, ma1_array)\n",
    "    println(\"with k = $k\")\n",
    "    println(\"auto cov is $aut_cov\")\n",
    "    println(\"auto  correlation is $aut_cor \\n\")\n",
    "end"
   ]
  },
  {
   "cell_type": "code",
   "execution_count": null,
   "id": "organized-cleaners",
   "metadata": {},
   "outputs": [],
   "source": []
  }
 ],
 "metadata": {
  "kernelspec": {
   "display_name": "Julia 1.5.3",
   "language": "julia",
   "name": "julia-1.5"
  },
  "language_info": {
   "file_extension": ".jl",
   "mimetype": "application/julia",
   "name": "julia",
   "version": "1.5.3"
  }
 },
 "nbformat": 4,
 "nbformat_minor": 5
}
