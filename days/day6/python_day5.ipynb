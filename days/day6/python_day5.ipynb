{
 "cells": [
  {
   "cell_type": "code",
   "execution_count": 1,
   "id": "visible-poster",
   "metadata": {},
   "outputs": [],
   "source": [
    "import numpy as np"
   ]
  },
  {
   "cell_type": "code",
   "execution_count": 2,
   "id": "neutral-jacksonville",
   "metadata": {},
   "outputs": [],
   "source": [
    "#ma_qモデル\n",
    "def ma_q(q :int, theta_array :np.array, mu :float, sigma :float, length: int) -> np.array:\n",
    "    noise_list = np.random.normal(0,sigma,length)\n",
    "    y_t_list = np.array([(mu+noise_list[i]+theta*noise_list[i-1]) if i != 0 else (mu+noise_list[i]) for i in range(length)])\n",
    "    return y_t_list"
   ]
  },
  {
   "cell_type": "code",
   "execution_count": 3,
   "id": "expressed-inclusion",
   "metadata": {},
   "outputs": [],
   "source": [
    "q = 5\n",
    "theta_array= np.array([0.6,0.5,0.2,0.1])\n",
    "noise_list = np.random.normal(0,1,1000)"
   ]
  },
  {
   "cell_type": "code",
   "execution_count": 4,
   "id": "frank-sweet",
   "metadata": {},
   "outputs": [
    {
     "data": {
      "text/plain": [
       "0.053184164950009216"
      ]
     },
     "execution_count": 4,
     "metadata": {},
     "output_type": "execute_result"
    }
   ],
   "source": [
    "np.sum([noise_list[0-i]*theta_array[i] for i in range(4)])"
   ]
  },
  {
   "cell_type": "code",
   "execution_count": 5,
   "id": "eight-bolivia",
   "metadata": {},
   "outputs": [
    {
     "data": {
      "text/plain": [
       "[0.011719140808360765,\n",
       " 0.16511839272790335,\n",
       " 0.03118233093858666,\n",
       " -0.15483569952484155]"
      ]
     },
     "execution_count": 5,
     "metadata": {},
     "output_type": "execute_result"
    }
   ],
   "source": [
    "[noise_list[0-i]*theta_array[i] for i in range(4)]"
   ]
  },
  {
   "cell_type": "code",
   "execution_count": null,
   "id": "moral-baker",
   "metadata": {},
   "outputs": [],
   "source": []
  }
 ],
 "metadata": {
  "kernelspec": {
   "display_name": "Python 3",
   "language": "python",
   "name": "python3"
  },
  "language_info": {
   "codemirror_mode": {
    "name": "ipython",
    "version": 3
   },
   "file_extension": ".py",
   "mimetype": "text/x-python",
   "name": "python",
   "nbconvert_exporter": "python",
   "pygments_lexer": "ipython3",
   "version": "3.8.6"
  }
 },
 "nbformat": 4,
 "nbformat_minor": 5
}
