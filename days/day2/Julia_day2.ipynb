{
 "cells": [
  {
   "cell_type": "code",
   "execution_count": 1,
   "id": "considerable-orange",
   "metadata": {},
   "outputs": [
    {
     "data": {
      "text/plain": [
       "Plots.GRBackend()"
      ]
     },
     "execution_count": 1,
     "metadata": {},
     "output_type": "execute_result"
    }
   ],
   "source": [
    "using Random, Distributions, Plots,Statistics\n",
    "gr() "
   ]
  },
  {
   "cell_type": "code",
   "execution_count": 21,
   "id": "brave-elite",
   "metadata": {},
   "outputs": [
    {
     "data": {
      "text/plain": [
       "ma1 (generic function with 1 method)"
      ]
     },
     "execution_count": 21,
     "metadata": {},
     "output_type": "execute_result"
    }
   ],
   "source": [
    "#ma1モデル\n",
    "function ma1(mu, sigma, theta, length)\n",
    "    noise_array = rand(Normal(0,sigma^2) , length)\n",
    "    ma_array = [(if i != 1 mu+noise_array[i]+theta*noise_array[i-1] else mu+noise_array[i] end) for i in 1:length]\n",
    "    return ma_array\n",
    "end"
   ]
  },
  {
   "cell_type": "code",
   "execution_count": 22,
   "id": "geographic-clinic",
   "metadata": {},
   "outputs": [
    {
     "name": "stdout",
     "output_type": "stream",
     "text": [
      "mean :3.0059978125451385, params( sigma:1,theta:0.1)\n",
      "mean :2.9953781253466607, params( sigma:1,theta:0.5)\n",
      "mean :3.0138116335063003, params( sigma:1,theta:0.8)\n",
      "mean :2.9278919442202356, params( sigma:5,theta:0.1)\n",
      "mean :2.1856405313501646, params( sigma:5,theta:0.5)\n",
      "mean :2.202015278493665, params( sigma:5,theta:0.8)\n",
      "mean :4.187352602187806, params( sigma:10,theta:0.1)\n",
      "mean :-0.20994446242941667, params( sigma:10,theta:0.5)\n",
      "mean :3.5289030535261023, params( sigma:10,theta:0.8)\n"
     ]
    }
   ],
   "source": [
    "for sigma in [1,5,10]\n",
    "    for theta in [0.1,0.5,0.8]\n",
    "        m =Statistics.mean(ma1(3, sigma, theta, 10000))\n",
    "        println(\"mean :$m, params( sigma:$sigma,theta:$theta)\" )\n",
    "    end\n",
    "end"
   ]
  },
  {
   "cell_type": "code",
   "execution_count": 25,
   "id": "rapid-museum",
   "metadata": {},
   "outputs": [
    {
     "name": "stdout",
     "output_type": "stream",
     "text": [
      "var :1.034685908839559, params( mean:2,theta:0.0 )\n",
      "var :1.0017251287700997, params( mean:5,theta:0.0 )\n",
      "var :1.0011165292211153, params( mean:10,theta:0.0 )\n",
      "var :1.223288636032728, params( mean:2,theta:0.5 )\n",
      "var :1.1712192055451343, params( mean:5,theta:0.5 )\n",
      "var :1.2546444311345804, params( mean:10,theta:0.5 )\n",
      "var :1.5730291044988884, params( mean:2,theta:0.8 )\n",
      "var :1.5582008068603308, params( mean:5,theta:0.8 )\n",
      "var :1.6519348068329163, params( mean:10,theta:0.8 )\n"
     ]
    }
   ],
   "source": [
    "for theta in [0,0.5,0.8]\n",
    "    for  mean in [2,5,10]\n",
    "        v = Statistics.var(ma1(mean,1,theta,5000))\n",
    "        println(\"var :$v, params( mean:$mean,theta:$theta )\")\n",
    "    end\n",
    "end"
   ]
  },
  {
   "cell_type": "code",
   "execution_count": 28,
   "id": "stable-sheep",
   "metadata": {},
   "outputs": [
    {
     "name": "stdout",
     "output_type": "stream",
     "text": [
      "var :0.9999848343287977, params( mean:2,theta:0.0 )\n",
      "var :0.9986616914017322, params( mean:5,theta:0.0 )\n",
      "var :1.0013219200923447, params( mean:10,theta:0.0 )\n",
      "var :1.253117885817165, params( mean:2,theta:0.5 )\n",
      "var :1.2487338835518507, params( mean:5,theta:0.5 )\n",
      "var :1.2528080190929582, params( mean:10,theta:0.5 )\n",
      "var :1.6378317569230352, params( mean:2,theta:0.8 )\n",
      "var :1.6397853139000798, params( mean:5,theta:0.8 )\n",
      "var :1.6408949402429815, params( mean:10,theta:0.8 )\n",
      "  0.133520 seconds (546 allocations: 137.360 MiB, 8.71% gc time)\n"
     ]
    }
   ],
   "source": [
    "@time　for theta in [0,0.5,0.8]\n",
    "    for  mean in [2,5,10]\n",
    "        v = Statistics.var(ma1(mean,1,theta,1000000))\n",
    "        println(\"var :$v, params( mean:$mean,theta:$theta )\")\n",
    "    end\n",
    "end"
   ]
  },
  {
   "cell_type": "code",
   "execution_count": null,
   "id": "convertible-underground",
   "metadata": {},
   "outputs": [],
   "source": []
  }
 ],
 "metadata": {
  "kernelspec": {
   "display_name": "Julia 1.5.3",
   "language": "julia",
   "name": "julia-1.5"
  },
  "language_info": {
   "file_extension": ".jl",
   "mimetype": "application/julia",
   "name": "julia",
   "version": "1.5.3"
  }
 },
 "nbformat": 4,
 "nbformat_minor": 5
}
