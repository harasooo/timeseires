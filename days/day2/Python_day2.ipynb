{
 "cells": [
  {
   "cell_type": "code",
   "execution_count": 2,
   "id": "reflected-polls",
   "metadata": {},
   "outputs": [],
   "source": [
    "import numpy as np\n",
    "import matplotlib.pyplot as plt"
   ]
  },
  {
   "cell_type": "code",
   "execution_count": 29,
   "id": "capital-access",
   "metadata": {},
   "outputs": [],
   "source": [
    "#ma1モデル\n",
    "def ma1(mu :float, sigma :float, theta :float, length: int) -> np.array:\n",
    "    noise_list = np.random.normal(0,sigma,length)\n",
    "    y_t_list = np.array([(mu+noise_list[i]+theta*noise_list[i-1]) if i != 0 else (mu+noise_list[i]) for i in range(length)])\n",
    "    return y_t_list"
   ]
  },
  {
   "cell_type": "code",
   "execution_count": 23,
   "id": "numeric-blink",
   "metadata": {},
   "outputs": [
    {
     "name": "stdout",
     "output_type": "stream",
     "text": [
      "mean :1.926198785684543, params( sigma:1,theta:0.1 )\n",
      "mean :1.902910823471501, params( sigma:1,theta:0.5 )\n",
      "mean :2.0285533961989657, params( sigma:1,theta:0.8 )\n",
      "mean :2.114294210570982, params( sigma:5,theta:0.1 )\n",
      "mean :2.0853405428001586, params( sigma:5,theta:0.5 )\n",
      "mean :2.0503565982718777, params( sigma:5,theta:0.8 )\n",
      "mean :2.16445654448972, params( sigma:10,theta:0.1 )\n",
      "mean :1.5993829586767059, params( sigma:10,theta:0.5 )\n",
      "mean :1.8215360012309474, params( sigma:10,theta:0.8 )\n"
     ]
    }
   ],
   "source": [
    "for sigma in [1,5,10]:\n",
    "    for theta in [0.1,0.5,0.8]:\n",
    "        m = np.mean(ma1(2,sigma,theta,5000))\n",
    "        print(f\"mean :{m}, params( sigma:{sigma},theta:{theta} )\")"
   ]
  },
  {
   "cell_type": "code",
   "execution_count": 33,
   "id": "blessed-thesis",
   "metadata": {},
   "outputs": [
    {
     "name": "stdout",
     "output_type": "stream",
     "text": [
      "var :1.0021800234142773, params( mean:2,theta:0 )\n",
      "var :1.0002418790199685, params( mean:5,theta:0 )\n",
      "var :1.0001070532730114, params( mean:10,theta:0 )\n",
      "var :1.2504277254303984, params( mean:2,theta:0.5 )\n",
      "var :1.2509861991641205, params( mean:5,theta:0.5 )\n",
      "var :1.251804782818199, params( mean:10,theta:0.5 )\n",
      "var :1.633829185651703, params( mean:2,theta:0.8 )\n",
      "var :1.6521439473989408, params( mean:5,theta:0.8 )\n",
      "var :1.6402928658667761, params( mean:10,theta:0.8 )\n"
     ]
    }
   ],
   "source": [
    "for theta in [0,0.5,0.8]:\n",
    "    for  mean in [2,5,10]:\n",
    "        v = np.var(ma1(mean,1,theta,500000))\n",
    "        print(f\"var :{v}, params( mean:{mean},theta:{theta} )\")"
   ]
  },
  {
   "cell_type": "code",
   "execution_count": 34,
   "id": "dominant-tuning",
   "metadata": {},
   "outputs": [
    {
     "name": "stdout",
     "output_type": "stream",
     "text": [
      "var :1.0002834076903255, params( mean:2,theta:0 )\n",
      "var :0.9984945955508794, params( mean:5,theta:0 )\n",
      "var :1.0001348816069182, params( mean:10,theta:0 )\n",
      "var :1.2519756791976557, params( mean:2,theta:0.5 )\n",
      "var :1.248287359883966, params( mean:5,theta:0.5 )\n",
      "var :1.2492661830498797, params( mean:10,theta:0.5 )\n",
      "var :1.6419889107235597, params( mean:2,theta:0.8 )\n",
      "var :1.6405258994637253, params( mean:5,theta:0.8 )\n",
      "var :1.6348072265325082, params( mean:10,theta:0.8 )\n",
      "elapsed_time:15.127556324005127[sec]\n"
     ]
    }
   ],
   "source": [
    "import time\n",
    "\n",
    "start = time.time()\n",
    "for theta in [0,0.5,0.8]:\n",
    "    for  mean in [2,5,10]:\n",
    "        v = np.var(ma1(mean,1,theta,1000000))\n",
    "        print(f\"var :{v}, params( mean:{mean},theta:{theta} )\")\n",
    "elapsed_time = time.time() - start\n",
    "print (\"elapsed_time:{0}\".format(elapsed_time) + \"[sec]\")"
   ]
  },
  {
   "cell_type": "code",
   "execution_count": null,
   "id": "banned-homeless",
   "metadata": {},
   "outputs": [],
   "source": []
  }
 ],
 "metadata": {
  "kernelspec": {
   "display_name": "Python 3",
   "language": "python",
   "name": "python3"
  },
  "language_info": {
   "codemirror_mode": {
    "name": "ipython",
    "version": 3
   },
   "file_extension": ".py",
   "mimetype": "text/x-python",
   "name": "python",
   "nbconvert_exporter": "python",
   "pygments_lexer": "ipython3",
   "version": "3.8.6"
  }
 },
 "nbformat": 4,
 "nbformat_minor": 5
}
