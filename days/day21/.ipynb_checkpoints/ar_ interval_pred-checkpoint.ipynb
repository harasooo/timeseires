{
 "cells": [
  {
   "cell_type": "code",
   "execution_count": 2,
   "id": "medieval-editing",
   "metadata": {},
   "outputs": [
    {
     "data": {
      "text/plain": [
       "Plots.GRBackend()"
      ]
     },
     "execution_count": 2,
     "metadata": {},
     "output_type": "execute_result"
    }
   ],
   "source": [
    "using Random, Distributions, Statistics, Plots\n",
    "gr() "
   ]
  },
  {
   "cell_type": "code",
   "execution_count": 37,
   "id": "smoking-success",
   "metadata": {},
   "outputs": [
    {
     "data": {
      "text/plain": [
       "autocovariance (generic function with 1 method)"
      ]
     },
     "execution_count": 37,
     "metadata": {},
     "output_type": "execute_result"
    }
   ],
   "source": [
    "#arqモデル\n",
    "function extract_y_t(y_t_array,k)\n",
    "    if k <= length(y_t_array)\n",
    "        return y_t_array[(length(y_t_array)+1-k)]\n",
    "    else\n",
    "        return 0\n",
    "    end\n",
    "end\n",
    "\n",
    "function ar_q(y_0, c, sigma, theta_array, y_length)\n",
    "    y_t_array = []\n",
    "    noise_array = rand(Normal(0,sigma) , y_length)\n",
    "    for i in 1:y_length\n",
    "        if i == 0\n",
    "            append!(y_t_array,y_0)\n",
    "        else\n",
    "            y_t = 0\n",
    "            for j in 1:length(theta_array)\n",
    "                y_t += theta_array[j]*extract_y_t(y_t_array,j)\n",
    "            end\n",
    "            append!(y_t_array,c+y_t+noise_array[i])\n",
    "        end\n",
    "    end\n",
    "    return y_t_array\n",
    "end\n",
    "\n",
    "function predict_ar_p(y_t_array,c, sigma, theta_array,h)\n",
    "    for i in 1:h\n",
    "        y_t = 0\n",
    "        for j in 1:length(theta_array)\n",
    "            y_t += theta_array[j]*extract_y_t(y_t_array,j)\n",
    "        end\n",
    "        append!(y_t_array,c+y_t)\n",
    "    end\n",
    "    return y_t_array\n",
    "end\n",
    "\n",
    "function predict_ar_p_interval(y_t_array,c, sigma, theta_array,h,N)\n",
    "    y_h = y_t_array[(h+1):length(y_t_array)][h]\n",
    "    y_pred_h = []\n",
    "    for n in 1:N\n",
    "        ar_h = ar_q(0, c, sigma, theta_array, h)\n",
    "        append!(y_pred_h,ar_h[h])\n",
    "    end\n",
    "    mse = sum( [(y_pred_h[n]-y_h)^2 for n in 1:N])/N\n",
    "    upper= y_h +1.96*sqrt(mse)\n",
    "    lower= y_h - 1.96*sqrt(mse)\n",
    "    return upper, lower\n",
    "end\n",
    "\n",
    "#k次の自己共分散の値を計算\n",
    "function autocovariance(k, ma1_array)\n",
    "    auto_cov = Statistics.cov(ma1_array[1:(size(ma1_array)[1])-k],ma1_array[1+k:(size(ma1_array)[1])],corrected = false)\n",
    "    return auto_cov\n",
    "end"
   ]
  },
  {
   "cell_type": "code",
   "execution_count": 40,
   "id": "about-binary",
   "metadata": {},
   "outputs": [
    {
     "data": {
      "text/plain": [
       "(16.202325903050284, -1.2021054471152608)"
      ]
     },
     "execution_count": 40,
     "metadata": {},
     "output_type": "execute_result"
    }
   ],
   "source": [
    "ar_3 = ar_q(0, 3, 4, [0.5,0.3,-0.2], 20)\n",
    "ar_3_pred =  predict_ar_p(ar_3, 3, 4, [0.5,0.3,-0.2], 20)\n",
    "predict_ar_p_interval(ar_3, 3, 4, [0.5,0.3,-0.2], 20,100)"
   ]
  },
  {
   "cell_type": "code",
   "execution_count": null,
   "id": "royal-moral",
   "metadata": {},
   "outputs": [],
   "source": []
  }
 ],
 "metadata": {
  "kernelspec": {
   "display_name": "Julia 1.5.3",
   "language": "julia",
   "name": "julia-1.5"
  },
  "language_info": {
   "file_extension": ".jl",
   "mimetype": "application/julia",
   "name": "julia",
   "version": "1.5.3"
  }
 },
 "nbformat": 4,
 "nbformat_minor": 5
}
