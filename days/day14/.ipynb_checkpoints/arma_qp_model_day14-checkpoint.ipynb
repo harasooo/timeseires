{
 "cells": [
  {
   "cell_type": "code",
   "execution_count": 6,
   "id": "authentic-homeless",
   "metadata": {},
   "outputs": [],
   "source": [
    "import numpy as np\n",
    "import matplotlib.pyplot as plt\n",
    "\n",
    "#armaモデル\n",
    "def extract_y_t(y_t_list :list,minus :int):\n",
    "    if abs(minus) <= len(y_t_list):\n",
    "        return y_t_list[minus]\n",
    "    else:\n",
    "        return 0\n",
    "\n",
    "def arma_pq(y_0 :float, c :float, sigma :float, phi_list :list, theta_list :list, length: int) -> list:\n",
    "    theta_list.insert(0,1)\n",
    "    y_t_list = []\n",
    "    noise_list = np.random.normal(0,sigma,length)\n",
    "    for i in range(length):\n",
    "        if i == 0:\n",
    "            y_t_list.append(y_0)\n",
    "        else:\n",
    "            if i < len(theta_list):\n",
    "                t = i\n",
    "            else:\n",
    "                t =  len(theta_list)           \n",
    "            y_t = 0\n",
    "            for n,phi in enumerate(phi_list):\n",
    "                y_t += phi*extract_y_t(y_t_list,-(n+1))\n",
    "            y_t_list.append(c+y_t+np.sum([noise_list[i-j]*theta_list[j] for j in range(t)]))\n",
    "    return np.array(y_t_list)\n",
    "\n",
    "#k次の自己共分散の値を計算\n",
    "def autocovariance(k :int, ma1_array :np.array) -> np.array:\n",
    "    auto_cov = np.cov(ma1_array[0:(len(ma1_array)-1)-k],ma1_array[0+k:(len(ma1_array)-1)],ddof=0)[0][1]\n",
    "    return auto_cov\n",
    "\n",
    "#k次の自己相関の値を計算\n",
    "def autocorrelation(k :int, ma1_array :np.array) -> np.array:\n",
    "    k_0 = autocovariance(0, ma1_array)\n",
    "    k_k = autocovariance(k, ma1_array)\n",
    "    return k_k/k_0"
   ]
  },
  {
   "cell_type": "code",
   "execution_count": 19,
   "id": "political-guidance",
   "metadata": {},
   "outputs": [],
   "source": [
    "arma_22 = arma_pq(0, 0, 1, [0.3,0.5],  [0.3,0.5], 100000)"
   ]
  },
  {
   "cell_type": "code",
   "execution_count": 20,
   "id": "incorporated-lotus",
   "metadata": {},
   "outputs": [
    {
     "name": "stdout",
     "output_type": "stream",
     "text": [
      "0.001965487913518912\n"
     ]
    }
   ],
   "source": [
    "print(np.mean(arma_22))"
   ]
  },
  {
   "cell_type": "code",
   "execution_count": 21,
   "id": "cutting-chair",
   "metadata": {},
   "outputs": [
    {
     "data": {
      "text/plain": [
       "<BarContainer object of 20 artists>"
      ]
     },
     "execution_count": 21,
     "metadata": {},
     "output_type": "execute_result"
    },
    {
     "data": {
      "image/png": "[encoded data removed]",
      "text/plain": [
       "<Figure size 432x288 with 1 Axes>"
      ]
     },
     "metadata": {
      "needs_background": "light"
     },
     "output_type": "display_data"
    }
   ],
   "source": [
    "plt.bar([i for i in range(20)],[autocorrelation((i+1),arma_22) for i in range(20)])"
   ]
  },
  {
   "cell_type": "code",
   "execution_count": null,
   "id": "developing-evaluation",
   "metadata": {},
   "outputs": [],
   "source": []
  }
 ],
 "metadata": {
  "kernelspec": {
   "display_name": "Python 3",
   "language": "python",
   "name": "python3"
  },
  "language_info": {
   "codemirror_mode": {
    "name": "ipython",
    "version": 3
   },
   "file_extension": ".py",
   "mimetype": "text/x-python",
   "name": "python",
   "nbconvert_exporter": "python",
   "pygments_lexer": "ipython3",
   "version": "3.8.6"
  }
 },
 "nbformat": 4,
 "nbformat_minor": 5
}
