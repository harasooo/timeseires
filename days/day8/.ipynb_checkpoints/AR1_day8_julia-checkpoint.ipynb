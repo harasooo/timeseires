{
 "cells": [
  {
   "cell_type": "code",
   "execution_count": 18,
   "id": "canadian-clerk",
   "metadata": {},
   "outputs": [
    {
     "data": {
      "text/plain": [
       "Plots.GRBackend()"
      ]
     },
     "execution_count": 18,
     "metadata": {},
     "output_type": "execute_result"
    }
   ],
   "source": [
    "using Random, Distributions, Statistics,Plots\n",
    "gr() "
   ]
  },
  {
   "cell_type": "code",
   "execution_count": 16,
   "id": "postal-philip",
   "metadata": {},
   "outputs": [
    {
     "data": {
      "text/plain": [
       "ar1 (generic function with 1 method)"
      ]
     },
     "execution_count": 16,
     "metadata": {},
     "output_type": "execute_result"
    }
   ],
   "source": [
    "#ar1モデル\n",
    "function ar1(y_0,c,sigma,theta,length)\n",
    "    ar_array = []\n",
    "    noise_array = rand(Normal(0,sigma) , length)\n",
    "    for i in 1:length\n",
    "        if i == 1\n",
    "            append!(ar_array, [y_0])\n",
    "        else\n",
    "            t_i = [c+theta*ar_array[i-1]+noise_array[i]]\n",
    "             append!(ar_array,t_i)\n",
    "        end\n",
    "    end\n",
    "    return ar_array\n",
    "end"
   ]
  },
  {
   "cell_type": "code",
   "execution_count": null,
   "id": "fresh-cleaners",
   "metadata": {},
   "outputs": [],
   "source": [
    " plot(ar1(2,2,1,0.5,30000))"
   ]
  },
  {
   "cell_type": "code",
   "execution_count": null,
   "id": "nasty-timber",
   "metadata": {},
   "outputs": [],
   "source": []
  }
 ],
 "metadata": {
  "kernelspec": {
   "display_name": "Julia 1.5.3",
   "language": "julia",
   "name": "julia-1.5"
  },
  "language_info": {
   "file_extension": ".jl",
   "mimetype": "application/julia",
   "name": "julia",
   "version": "1.5.3"
  }
 },
 "nbformat": 4,
 "nbformat_minor": 5
}
