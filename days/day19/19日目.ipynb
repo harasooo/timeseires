{
 "cells": [
  {
   "cell_type": "code",
   "execution_count": 1,
   "id": "cooperative-calgary",
   "metadata": {},
   "outputs": [
    {
     "data": {
      "text/plain": [
       "Plots.GRBackend()"
      ]
     },
     "execution_count": 1,
     "metadata": {},
     "output_type": "execute_result"
    }
   ],
   "source": [
    "using Random, Distributions, Statistics, Plots\n",
    "gr() "
   ]
  },
  {
   "cell_type": "code",
   "execution_count": 2,
   "id": "bottom-evaluation",
   "metadata": {},
   "outputs": [
    {
     "data": {
      "text/plain": [
       "arma_pq (generic function with 1 method)"
      ]
     },
     "execution_count": 2,
     "metadata": {},
     "output_type": "execute_result"
    }
   ],
   "source": [
    "#maqモデル\n",
    "function extract_y_t(y_t_array,k)\n",
    "    if k <= length(y_t_array)\n",
    "        return y_t_array[(length(y_t_array)+1-k)]\n",
    "    else\n",
    "        return 0\n",
    "    end\n",
    "end\n",
    "\n",
    "function arma_pq(y_0, c, sigma, phi_array, theta_array, y_length)\n",
    "    prepend!([1.0], theta_array)\n",
    "    y_t_array = []\n",
    "    noise_array = rand(Normal(0,sigma) , y_length)\n",
    "    for i in 1:y_length\n",
    "        if i == 0\n",
    "            append!(y_t_array,y_0)\n",
    "        else\n",
    "            y_t = 0\n",
    "            if i < length(theta_array)\n",
    "                t = i\n",
    "            else\n",
    "                t =  length(theta_array)\n",
    "            end\n",
    "            for j in 1:length(phi_array)\n",
    "                y_t += phi_array[j]*extract_y_t(y_t_array,j)\n",
    "            end\n",
    "            append!(y_t_array,c+y_t+sum([noise_array[i-(k-1)]*theta_array[k] for k in 1:t]))\n",
    "        end\n",
    "    end\n",
    "    return y_t_array\n",
    "end"
   ]
  },
  {
   "cell_type": "code",
   "execution_count": null,
   "id": "fewer-equilibrium",
   "metadata": {},
   "outputs": [],
   "source": [
    "#最尤法で推定\n",
    "#対数尤度を返す\n",
    "function Likelihood_for_AR1(ar_proc)\n",
    "    mean_y_t = mean(ar_proc[2:length(ar_proc)])\n",
    "    mean_y_t_1 = mean(ar_proc[1:(length(ar_proc)-1)])\n",
    "    phi = sum([(ar_proc[i]-mean_y_t)*(ar_proc[i-1]-mean_y_t_1)  for i in 2:(length(ar_proc))])/sum([(ar_proc[i-1]-mean_y_t_1)^2  for i in 2:(length(ar_proc))])\n",
    "    c = mean_y_t - phi*mean_y_t_1\n",
    "    s = sum([(ar_proc[i]-c-phi*ar_proc[i-1])^2  for i in 2:(length(ar_proc))])/(length(ar_proc)-1)\n",
    "    return phi,c,s\n",
    "end"
   ]
  }
 ],
 "metadata": {
  "kernelspec": {
   "display_name": "Julia 1.5.3",
   "language": "julia",
   "name": "julia-1.5"
  },
  "language_info": {
   "file_extension": ".jl",
   "mimetype": "application/julia",
   "name": "julia",
   "version": "1.5.3"
  }
 },
 "nbformat": 4,
 "nbformat_minor": 5
}
