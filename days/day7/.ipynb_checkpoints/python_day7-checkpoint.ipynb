{
 "cells": [
  {
   "cell_type": "code",
   "execution_count": 1,
   "id": "subject-bowling",
   "metadata": {},
   "outputs": [],
   "source": [
    "import numpy as np"
   ]
  },
  {
   "cell_type": "code",
   "execution_count": 371,
   "id": "burning-michigan",
   "metadata": {},
   "outputs": [],
   "source": [
    "#ma_qモデル\n",
    "def ma_q(theta_array :list, mu :float, sigma :float, length: int) -> list:\n",
    "    theta_array.insert(0,1)\n",
    "    ma_q_list = []\n",
    "    noise_list = np.random.normal(0,sigma,length)\n",
    "    for i in range(length):\n",
    "        if i < len(theta_array):\n",
    "            t = i\n",
    "        else:\n",
    "            t =  len(theta_array)\n",
    "        ma_q_list.append(mu+np.sum([noise_list[i-j]*theta_array[j] for j in range(t)]))\n",
    "    return ma_q_list\n",
    "\n",
    "#k次の自己共分散の値を計算\n",
    "def autocovariance(k :int, ma1_array :np.array) -> np.array:\n",
    "    auto_cov = np.cov(ma1_array[0:(len(ma1_array)-1)-k],ma1_array[0+k:(len(ma1_array)-1)],ddof=0)[0][1]\n",
    "    return auto_cov\n",
    "\n",
    "#k次の自己相関の値を計算\n",
    "def autocorrelation(k :int, ma1_array :np.array) -> np.array:\n",
    "    k_0 = autocovariance(0, ma1_array)\n",
    "    k_k = autocovariance(k, ma1_array)\n",
    "    return k_k/k_0"
   ]
  },
  {
   "cell_type": "code",
   "execution_count": 372,
   "id": "imposed-cloud",
   "metadata": {},
   "outputs": [
    {
     "name": "stdout",
     "output_type": "stream",
     "text": [
      "観測値：自己共分散 with k=0　is 1.675898553643813\n",
      "理論値：自己共分散 with k=0　is　1.66\n",
      "観測値：自己共分散 with k=5　is 0.06586248643654968\n",
      "理論値：自己共分散 with k=5　is　0\n",
      "-----------------------------------------\n",
      "観測値：自己相関係数 with k=0　is 1.0\n",
      "理論値：自己相関係数 with k=0　is　1\n",
      "観測値：自己相関係数 with k=5　is 0.039299805046879806\n",
      "理論値：自己相関係数 with k=5　is　0\n"
     ]
    }
   ],
   "source": [
    "a = ma_q([0.6,0.5,0.2,0.1],2,1,10000)\n",
    "#観測値\n",
    "print(f\"観測値：自己共分散 with k=0　is {autocovariance(0,a)}\")\n",
    "#理論値\n",
    "print(f\"理論値：自己共分散 with k=0　is　{1+(0.6**2)+(0.5**2)+(0.2**2)+(0.1**2)}\")\n",
    "#観測値\n",
    "print(f\"観測値：自己共分散 with k=5　is {autocovariance(5,a)}\")\n",
    "#理論値\n",
    "print(f\"理論値：自己共分散 with k=5　is　0\")\n",
    "print(\"-----------------------------------------\")\n",
    "#観測値\n",
    "print(f\"観測値：自己相関係数 with k=0　is {autocorrelation(0,a)}\")\n",
    "#理論値\n",
    "print(f\"理論値：自己相関係数 with k=0　is　{1}\")\n",
    "#観測値\n",
    "print(f\"観測値：自己相関係数 with k=5　is {autocorrelation(5,a)}\")\n",
    "#理論値\n",
    "print(f\"理論値：自己相関係数 with k=5　is　0\")"
   ]
  },
  {
   "cell_type": "code",
   "execution_count": null,
   "id": "consistent-database",
   "metadata": {},
   "outputs": [],
   "source": []
  }
 ],
 "metadata": {
  "kernelspec": {
   "display_name": "Python 3",
   "language": "python",
   "name": "python3"
  },
  "language_info": {
   "codemirror_mode": {
    "name": "ipython",
    "version": 3
   },
   "file_extension": ".py",
   "mimetype": "text/x-python",
   "name": "python",
   "nbconvert_exporter": "python",
   "pygments_lexer": "ipython3",
   "version": "3.8.6"
  }
 },
 "nbformat": 4,
 "nbformat_minor": 5
}
